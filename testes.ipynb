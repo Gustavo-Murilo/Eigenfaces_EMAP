{
 "cells": [
  {
   "cell_type": "markdown",
   "id": "ee867132-fc4a-4461-9720-ce84a49ba7e4",
   "metadata": {},
   "source": [
    "# Importações"
   ]
  },
  {
   "cell_type": "code",
   "execution_count": 1,
   "id": "99b8374c-6a40-4e15-b6cb-6fde73db0b68",
   "metadata": {},
   "outputs": [],
   "source": [
    "import numpy as np\n",
    "from PIL import Image\n",
    "import glob\n",
    "import matplotlib.pyplot as plt\n",
    "from sklearn.utils.extmath import randomized_svd\n",
    "import utils_imagem as utl\n",
    "import sys\n",
    "import locale"
   ]
  },
  {
   "cell_type": "markdown",
   "id": "93651412-df24-46ee-95ca-02304122138c",
   "metadata": {},
   "source": [
    "# Definição de constantes"
   ]
  },
  {
   "cell_type": "code",
   "execution_count": 2,
   "id": "1cfe6d5c-7b56-4c65-a280-6879ce2ee690",
   "metadata": {},
   "outputs": [],
   "source": [
    "locale.setlocale(locale.LC_ALL, 'pt_BR.UTF-8')\n",
    "\n",
    "m = 180 # altura da imagem\n",
    "n = 130 # largura da imagem\n",
    "DIMENSAO_IMAGEM = (m, n)\n",
    "\n",
    "# Altera o valor da constante no módulo de processamento de imagens\n",
    "utl.DIMENSAO_IMAGEM = DIMENSAO_IMAGEM"
   ]
  },
  {
   "cell_type": "markdown",
   "id": "9996079c-16b4-473c-8dd3-0919b4f88e1d",
   "metadata": {},
   "source": [
    "# Gerar matrizes A, M, C, U_A, U_C e a face média "
   ]
  },
  {
   "cell_type": "code",
   "execution_count": 3,
   "id": "ce274620-2fe1-427c-ad49-b53f6579c798",
   "metadata": {},
   "outputs": [],
   "source": [
    "# Matriz A(mn x q) na qual as colunas são as 'q' imagens do banco de imagens\n",
    "(q, A) = utl.varrer_banco_imagens('src/FEI_face_db/*')\n",
    "\n",
    "# Vetor f(mn x 1) com a média das colunas A, no caso, a face média\n",
    "face_media = np.mean(A, axis=1, keepdims=True) \n",
    "\n",
    "# Matriz M(mn x q) de média corrigida\n",
    "M = A - face_media"
   ]
  },
  {
   "cell_type": "code",
   "execution_count": 4,
   "id": "88f35b9c-0813-4e89-a98f-73769a255641",
   "metadata": {},
   "outputs": [
    {
     "data": {
      "text/plain": [
       "array([[0.78431373, 0.74509804, 0.84313725, ..., 1.        , 0.72941176,\n",
       "        0.72941176],\n",
       "       [0.78431373, 0.74509804, 0.84705882, ..., 1.        , 0.73333333,\n",
       "        0.7254902 ],\n",
       "       [0.78431373, 0.74117647, 0.85098039, ..., 1.        , 0.73333333,\n",
       "        0.73333333],\n",
       "       ...,\n",
       "       [0.29019608, 0.44313725, 0.05490196, ..., 0.02352941, 0.45882353,\n",
       "        0.5254902 ],\n",
       "       [0.30196078, 0.45098039, 0.0627451 , ..., 0.02352941, 0.45490196,\n",
       "        0.5254902 ],\n",
       "       [0.29803922, 0.45882353, 0.05882353, ..., 0.01960784, 0.45882353,\n",
       "        0.52156863]])"
      ]
     },
     "execution_count": 4,
     "metadata": {},
     "output_type": "execute_result"
    }
   ],
   "source": [
    "A"
   ]
  },
  {
   "cell_type": "code",
   "execution_count": 5,
   "id": "42b6dda7-5d9e-4cb1-b247-f09200628e51",
   "metadata": {},
   "outputs": [
    {
     "name": "stdout",
     "output_type": "stream",
     "text": [
      "A ocupa: 71.4111328125 Mb\n"
     ]
    }
   ],
   "source": [
    "\n",
    " \n",
    "# memory size of numpy array\n",
    "print(f\"A ocupa: {(A.size * A.itemsize) / (1024.0 ** 2):,} Mb\")"
   ]
  },
  {
   "cell_type": "code",
   "execution_count": 16,
   "id": "814f1fed-1562-4a20-8f2c-35dcdc873410",
   "metadata": {},
   "outputs": [],
   "source": [
    "# Matriz de covariância de A, C(mn x mn)\n",
    "C = np.cov(M)"
   ]
  },
  {
   "cell_type": "code",
   "execution_count": 8,
   "id": "7f8a618c-de45-47fe-a252-90fe0a7bf23e",
   "metadata": {},
   "outputs": [],
   "source": [
    "# Decomposição SVD na forma reduzida por causa de 'full_matrices=False'\n",
    "U_A, autovalores_A, _ = np.linalg.svd(A, full_matrices=False) # U já está ordenada em relação aos autovalores"
   ]
  },
  {
   "cell_type": "code",
   "execution_count": 9,
   "id": "94fcb5c7-9073-4e5f-8a62-492c0242d0a2",
   "metadata": {},
   "outputs": [],
   "source": [
    "# Decomposição SVD na forma reduzida por causa de 'full_matrices=False'\n",
    "componentes = U_A.shape[1] # valor arbitrário, decidido para as matrizes ficarem pareadas\n",
    "U_C, autovalores_C, VT_C = randomized_svd(C, n_components=componentes, n_iter=5, random_state=None)"
   ]
  },
  {
   "cell_type": "markdown",
   "id": "ca639d5c-bfad-4056-ac6f-aa52501cf7e1",
   "metadata": {},
   "source": [
    "# Verifica tamanho de variáveis"
   ]
  },
  {
   "cell_type": "code",
   "execution_count": 10,
   "id": "0b034298-5ae4-4652-8ce5-35e59771f291",
   "metadata": {},
   "outputs": [
    {
     "name": "stdout",
     "output_type": "stream",
     "text": [
      "Foram carregadas 400 imagens, cada uma com 23.400 pixels\n"
     ]
    }
   ],
   "source": [
    "qtd_pixels = f'{m*n:,}'\n",
    "print(f'Foram carregadas {q} imagens, cada uma com {qtd_pixels.replace(\",\",\".\")} pixels')"
   ]
  },
  {
   "cell_type": "code",
   "execution_count": 11,
   "id": "83f824de-1435-4809-a110-43bff4107e34",
   "metadata": {},
   "outputs": [
    {
     "name": "stdout",
     "output_type": "stream",
     "text": [
      "A ocupa: 71.4111328125 Mb\n"
     ]
    }
   ],
   "source": [
    "# memory size of numpy array\n",
    "print(f\"A ocupa: {(A.size * A.itemsize) / (1024.0 ** 2):,} Mb\")"
   ]
  },
  {
   "cell_type": "code",
   "execution_count": 61,
   "id": "91e85d9e-8dd4-4b91-8eea-3faff40a6be8",
   "metadata": {},
   "outputs": [
    {
     "name": "stdout",
     "output_type": "stream",
     "text": [
      "  A ocupa 71,4 mb = 0,1 gb \n",
      "  M ocupa 71,4 mb = 0,1 gb \n",
      "  C ocupa 4.177,6 mb = 4,1 gb \n",
      "U_A ocupa 71,4 mb = 0,1 gb \n",
      "U_C ocupa 71,4 mb = 0,1 gb \n"
     ]
    }
   ],
   "source": [
    "lista_nomes = ['  A', '  M', '  C', 'U_A', 'U_C']\n",
    "lista_var = (A, M, C, U_A, U_C)\n",
    "lista_magnitude = ['mb', 'gb']\n",
    "    \n",
    "for i in range(len(lista_nomes)):\n",
    "    ocupacao = ''\n",
    "    \n",
    "    for j in range(2):\n",
    "        tamanho = f'{(lista_var[i].size * lista_var[i].itemsize) / (1024.0 ** (j+2)):_.1f}'.replace(\".\",\",\").replace(\"_\",\".\")\n",
    "        ocupacao = ocupacao + f'{tamanho} {lista_magnitude[j]} = '\n",
    "\n",
    "    print(f'{lista_nomes[i]} ocupa {ocupacao[:-2]}')"
   ]
  },
  {
   "cell_type": "code",
   "execution_count": 13,
   "id": "3913b281-f497-4812-a05c-22ca8cda61e7",
   "metadata": {},
   "outputs": [],
   "source": [
    "# Apaga C da memória (liberando 4gb) por não ser mais necessária\n",
    "del C"
   ]
  }
 ],
 "metadata": {
  "kernelspec": {
   "display_name": "Python 3 (ipykernel)",
   "language": "python",
   "name": "python3"
  },
  "language_info": {
   "codemirror_mode": {
    "name": "ipython",
    "version": 3
   },
   "file_extension": ".py",
   "mimetype": "text/x-python",
   "name": "python",
   "nbconvert_exporter": "python",
   "pygments_lexer": "ipython3",
   "version": "3.10.12"
  }
 },
 "nbformat": 4,
 "nbformat_minor": 5
}
